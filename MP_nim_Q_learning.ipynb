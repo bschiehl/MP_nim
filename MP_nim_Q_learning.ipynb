{
 "cells": [
  {
   "cell_type": "code",
   "execution_count": 1,
   "id": "a0b7941a",
   "metadata": {},
   "outputs": [],
   "source": [
    "import numpy as np\n",
    "import numpy.ma as ma\n",
    "import random\n",
    "import matplotlib as plt\n",
    "from matplotlib.pyplot import figure\n",
    "import seaborn as sns\n",
    "from nim_env import NimEnv, OptimalPlayer"
   ]
  },
  {
   "cell_type": "markdown",
   "id": "c10791e2",
   "metadata": {},
   "source": [
    "# Q-learning"
   ]
  },
  {
   "cell_type": "code",
   "execution_count": 2,
   "id": "95e60073",
   "metadata": {},
   "outputs": [],
   "source": [
    "class NimQlearningAgent:\n",
    "    #Q learning agent for Nim with epsilon-greedy policy\n",
    "    def __init__(self, alpha=0.1, gamma=0.99, epsilon=0.2, player=0, Q=None):\n",
    "        self.epsilon = epsilon\n",
    "        self.alpha = alpha\n",
    "        self.gamma = gamma\n",
    "        self.player = player #  0 or 1\n",
    "        a = np.zeros((8, 8, 8, 3, 7))\n",
    "        if Q is not None:\n",
    "            self.Q = Q\n",
    "        else:\n",
    "            for s1 in range(8):\n",
    "                for s2 in range(8):\n",
    "                    for s3 in range(8):\n",
    "                        for a1 in range(3):\n",
    "                            for a2 in range(7):\n",
    "                                if a1 == 0:\n",
    "                                    if a2 >= s1:\n",
    "                                        a[s1, s2, s3, a1, a2] = np.NaN\n",
    "                                elif a1 == 1:\n",
    "                                    if a2 >= s2:\n",
    "                                        a[s1, s2, s3, a1, a2] = np.NaN\n",
    "                                else:\n",
    "                                    if a2 >= s3:\n",
    "                                        a[s1, s2, s3, a1, a2] = np.NaN\n",
    "            self.Q = ma.masked_invalid(a)\n",
    "    \n",
    "    def randomMove(self, heaps):\n",
    "        # the indexes of the heaps available are given by\n",
    "        heaps_avail = [i for i in range(len(heaps)) if heaps[i] > 0]\n",
    "        chosen_heap = random.choice(heaps_avail)\n",
    "        n_obj = random.choice(range(1, heaps[chosen_heap] + 1))\n",
    "        move = [chosen_heap + 1, n_obj]\n",
    "        return move\n",
    "        \n",
    "    def act(self, heaps):\n",
    "        if random.random() < self.epsilon:\n",
    "            return self.randomMove(heaps)\n",
    "        else:\n",
    "            move = np.unravel_index(np.argmax(self.Q[heaps[0], heaps[1], heaps[2], :, :]), self.Q[heaps[0], heaps[1], heaps[2], :, :].shape)\n",
    "            return [move[0] + 1, move[1] + 1]\n",
    "        \n",
    "    def update(self, oldHeaps, move, newHeaps, reward):\n",
    "        if ((oldHeaps is not None) and (move is not None) and (newHeaps is not None)):\n",
    "            oldQ = self.Q[oldHeaps[0], oldHeaps[1], oldHeaps[2], move[0] - 1, move[1] -1]\n",
    "            if newHeaps != [0,0,0]:\n",
    "                self.Q[oldHeaps[0], oldHeaps[1], oldHeaps[2], move[0] -1, move[1]-1] = oldQ + self.alpha *(reward + self.gamma * np.max(self.Q[newHeaps[0], newHeaps[1], newHeaps[2], :, :]) - oldQ)\n",
    "            else:\n",
    "                self.Q[oldHeaps[0], oldHeaps[1], oldHeaps[2], move[0] -1, move[1]-1] = oldQ + self.alpha *(reward - oldQ)\n"
   ]
  },
  {
   "cell_type": "code",
   "execution_count": 3,
   "id": "245a9eee",
   "metadata": {},
   "outputs": [],
   "source": [
    "env = NimEnv(seed = 10)"
   ]
  },
  {
   "cell_type": "code",
   "execution_count": 11,
   "id": "64dde9d5",
   "metadata": {},
   "outputs": [
    {
     "name": "stdout",
     "output_type": "stream",
     "text": [
      "0.70155\n"
     ]
    }
   ],
   "source": [
    "player_Q = NimQlearningAgent(player=0, epsilon=0.1)\n",
    "player_opt = OptimalPlayer(epsilon=0.5, player=1)\n",
    "reward_sum = 0\n",
    "games_won = 0\n",
    "avg_rewards = []\n",
    "for i in range(20000):\n",
    "    env.reset()\n",
    "    lastActionState = None\n",
    "    lastAction = None\n",
    "    while not env.end:\n",
    "        heaps, _, __ = env.observe()\n",
    "        if env.current_player == player_opt.player:\n",
    "            move = player_opt.act(heaps)\n",
    "            newHeaps, end, winner = env.step(move)\n",
    "        else:\n",
    "            if (lastActionState is not None and lastAction is not None):\n",
    "                reward = env.reward(player=player_Q.player)\n",
    "                player_Q.update(lastActionState, lastAction, newHeaps, reward)\n",
    "            lastActionState = heaps.copy()\n",
    "            move = player_Q.act(heaps)\n",
    "            lastAction = move\n",
    "            newHeaps, end, winner = env.step(move)\n",
    "\n",
    "        if end:\n",
    "            reward = env.reward(player=player_Q.player)\n",
    "            player_Q.update(lastActionState, lastAction, newHeaps, reward)\n",
    "            reward_sum += reward\n",
    "            if reward > 0:\n",
    "                games_won += 1\n",
    "            if ( (i+1) % 250 == 0):\n",
    "                avg_rewards.append(reward_sum / 250)\n",
    "                reward_sum = 0\n",
    "            break\n",
    "            \n",
    "    player_Q.player = 1 - player_Q.player\n",
    "    player_opt.player = 1 - player_opt.player\n",
    "    \n",
    "print(games_won/20000)"
   ]
  },
  {
   "cell_type": "code",
   "execution_count": 12,
   "id": "21b7308d",
   "metadata": {},
   "outputs": [
    {
     "data": {
      "text/plain": [
       "<AxesSubplot:>"
      ]
     },
     "execution_count": 12,
     "metadata": {},
     "output_type": "execute_result"
    },
    {
     "data": {
      "image/png": "[encoded data removed]",
      "text/plain": [
       "<Figure size 640x480 with 1 Axes>"
      ]
     },
     "metadata": {
      "needs_background": "light"
     },
     "output_type": "display_data"
    }
   ],
   "source": [
    "figure(figsize=(8, 6), dpi=80)\n",
    "sns.scatterplot(x=list(range(250, 20001, 250)), y=avg_rewards)"
   ]
  },
  {
   "cell_type": "code",
   "execution_count": null,
   "id": "3920948e",
   "metadata": {},
   "outputs": [],
   "source": []
  }
 ],
 "metadata": {
  "kernelspec": {
   "display_name": "Python 3 (ipykernel)",
   "language": "python",
   "name": "python3"
  },
  "language_info": {
   "codemirror_mode": {
    "name": "ipython",
    "version": 3
   },
   "file_extension": ".py",
   "mimetype": "text/x-python",
   "name": "python",
   "nbconvert_exporter": "python",
   "pygments_lexer": "ipython3",
   "version": "3.9.7"
  }
 },
 "nbformat": 4,
 "nbformat_minor": 5
}
